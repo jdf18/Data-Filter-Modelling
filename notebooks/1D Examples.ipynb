{
 "cells": [
  {
   "cell_type": "code",
   "execution_count": 1,
   "id": "df170100-15ee-4440-b623-31529d2ce09b",
   "metadata": {},
   "outputs": [],
   "source": [
    "import sys\n",
    "sys.path.insert(1, '../src')"
   ]
  },
  {
   "cell_type": "markdown",
   "id": "24b639aa-483b-4565-a06a-01efb1daa55f",
   "metadata": {},
   "source": [
    "### A 1D Object under constant velocity"
   ]
  },
  {
   "cell_type": "code",
   "execution_count": null,
   "id": "bc9f305b-92be-4f77-96b3-4a8548b411d1",
   "metadata": {},
   "outputs": [],
   "source": [
    "import filters.model"
   ]
  },
  {
   "cell_type": "code",
   "execution_count": null,
   "id": "156e625a-0ab8-4119-b3c9-02e3982c7743",
   "metadata": {},
   "outputs": [],
   "source": [
    "import numpy as np\n",
    "import matplotlib.pyplot as plt\n",
    "\n",
    "dt = 1\n",
    "steps = 50\n",
    "\n",
    "true_position = 0\n",
    "true_velocity = 1\n",
    "\n",
    "np.random.seed(1)\n",
    "\n",
    "q = 1e-3 # Process noise\n",
    "r = 1 # Measurement noise\n",
    "\n",
    "c = 0.8 # Sensor measurement chance\n",
    "\n",
    "\n",
    "model = filters.model.KalmanFilter(\n",
    "    2, \n",
    "    np.array([\n",
    "        [ 1, dt ],\n",
    "        [ 0, 1 ]\n",
    "    ]), \n",
    "    np.array([\n",
    "        [ 0.25 * dt**4, 0.5 * dt**3 ],\n",
    "        [ 0.5 * dt**3, dt**2 ]\n",
    "    ]) * q\n",
    ")\n",
    "\n",
    "accelerometer = filters.sensor.Sensor(\n",
    "    np.array( [ [ 1, 0 ] ] ), \n",
    "    np.array( [ [ 1 ] ] ) * (r ** 2), \n",
    "    lambda x : np.array([[x + np.random.normal(0, np.sqrt(r))]])\n",
    ")\n",
    "\n",
    "\n",
    "model.logger.add_state_translation('position', \n",
    "                            np.array([[1, 0]]))\n",
    "model.logger.add_state_translation('velocity', \n",
    "                            np.array([[0, 1]]))"
   ]
  },
  {
   "cell_type": "code",
   "execution_count": null,
   "id": "d89b69c6-d91e-4122-bbc7-28d74bb92a05",
   "metadata": {},
   "outputs": [],
   "source": [
    "for _ in range(steps):\n",
    "    # Kalman Filter prediction step\n",
    "    u = np.array([[0]])\n",
    "    model.prediction_step(u)\n",
    "\n",
    "    # Calculate and log true position\n",
    "    true_position += true_velocity * dt\n",
    "\n",
    "    model.logger.log_value('position', 'reference', true_position)\n",
    "    model.logger.log_value('velocity', 'reference', true_velocity)\n",
    "\n",
    "    # Test if sensor was able to get measurement\n",
    "    p = np.random.random()\n",
    "    if p < c:\n",
    "        # Simulate a noisy measurement\n",
    "        z = np.array([[true_position + np.random.normal(0, np.sqrt(r))]])\n",
    "    \n",
    "        # Kalman Filter correction step\n",
    "        model.update_step(accelerometer, z)\n",
    "\n",
    "    model.log()"
   ]
  },
  {
   "cell_type": "code",
   "execution_count": null,
   "id": "6c9b4f5c-77dc-44ff-ae84-291b3b09f411",
   "metadata": {},
   "outputs": [],
   "source": [
    "model.logger.plot()"
   ]
  }
 ],
 "metadata": {
  "kernelspec": {
   "display_name": "Python 3 (ipykernel)",
   "language": "python",
   "name": "python3"
  },
  "language_info": {
   "codemirror_mode": {
    "name": "ipython",
    "version": 3
   },
   "file_extension": ".py",
   "mimetype": "text/x-python",
   "name": "python",
   "nbconvert_exporter": "python",
   "pygments_lexer": "ipython3",
   "version": "3.12.7"
  }
 },
 "nbformat": 4,
 "nbformat_minor": 5
}
